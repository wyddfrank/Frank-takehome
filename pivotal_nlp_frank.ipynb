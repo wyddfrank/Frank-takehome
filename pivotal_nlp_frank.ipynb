{
 "cells": [
  {
   "cell_type": "markdown",
   "metadata": {},
   "source": [
    "# Report of NLP problem for Frank\n",
    "Given a set of posts, we've got two tasks:\n",
    "1. Determine the attributes of a successful post on r/askscience\n",
    "2. Build a model that can predict the score of a post on r/askscience given at least the title and body of the post (There is no need to limit it to just the title and body, but you must explain why you chose the features you did)."
   ]
  },
  {
   "cell_type": "code",
   "execution_count": 3,
   "metadata": {},
   "outputs": [],
   "source": [
    "import numpy as np\n",
    "import pandas as pd\n",
    "from scipy.stats.stats import pearsonr\n",
    "import seaborn as sns\n",
    "import lightgbm as lgb\n",
    "from sklearn.metrics import r2_score\n",
    "from gensim.utils import simple_preprocess\n",
    "from gensim import corpora\n",
    "from gensim.models import LdaModel\n",
    "from transformers import BertTokenizer, BertModel\n",
    "import torch"
   ]
  },
  {
   "cell_type": "markdown",
   "metadata": {},
   "source": [
    "## Data Overview and Preprocessing"
   ]
  },
  {
   "cell_type": "code",
   "execution_count": 4,
   "metadata": {},
   "outputs": [
    {
     "name": "stdout",
     "output_type": "stream",
     "text": [
      "Total samples: 4205\n"
     ]
    }
   ],
   "source": [
    "file = r'C:\\Users\\yu\\Downloads\\askscience_data.txt'\n",
    "\n",
    "df = pd.read_csv(file)\n",
    "total_samples = len(df)\n",
    "print(f'Total samples: {total_samples}')"
   ]
  },
  {
   "cell_type": "code",
   "execution_count": 7,
   "metadata": {},
   "outputs": [
    {
     "name": "stdout",
     "output_type": "stream",
     "text": [
      "Correlation coefficient between score and upvote ratio is 0.5483241172951062 (p=0.0)\n"
     ]
    }
   ],
   "source": [
    "# Correlation between score and upvote ratio\n",
    "corr, p_value = pearsonr(df['score'], df['upvote_ratio'])\n",
    "print('Correlation coefficient between score and upvote ratio is {} (p={})'.format(corr, p_value))"
   ]
  },
  {
   "cell_type": "code",
   "execution_count": 27,
   "metadata": {},
   "outputs": [
    {
     "name": "stdout",
     "output_type": "stream",
     "text": [
      "There are 33 tags.\n",
      "Samples group by tag:\n",
      "Biology                        724\n",
      "Physics                        628\n",
      "Human Body                     458\n",
      "Medicine                       336\n",
      "Earth Sciences                 318\n",
      "Astronomy                      272\n",
      "Chemistry                      229\n",
      "COVID-19                       218\n",
      "nan                            194\n",
      "Engineering                    190\n",
      "Planetary Sci.                 111\n",
      "Neuroscience                   107\n",
      "Mathematics                    102\n",
      "Psychology                      90\n",
      "Computing                       58\n",
      "Paleontology                    47\n",
      "Linguistics                     34\n",
      "Anthropology                    23\n",
      "Social Science                  20\n",
      "Archaeology                     15\n",
      "Economics                       14\n",
      "Interdisciplinary                3\n",
      "Earth Sciences and Biology       2\n",
      "  Linguistics                    2\n",
      "Ecology                          2\n",
      "First image of a black hole      1\n",
      "Dog Cognition AMA                1\n",
      "Political Science                1\n",
      "Meta                             1\n",
      "CERN AMA                         1\n",
      "Food                             1\n",
      "Materials Science                1\n",
      "META                             1\n",
      "Name: tag, dtype: int64\n"
     ]
    },
    {
     "data": {
      "image/png": "[encoded data removed]",
      "text/plain": [
       "<Figure size 432x288 with 1 Axes>"
      ]
     },
     "metadata": {},
     "output_type": "display_data"
    }
   ],
   "source": [
    "# Explore tags\n",
    "\n",
    "df.loc[:, 'tag'] = df['tag'].replace(np.nan, 'nan')\n",
    "print('There are {} tags.'.format(len(df['tag'].unique())))\n",
    "# Boxplot group by tag (Sorry about the xticks. It would be easier to view if the ticks are rotated)\n",
    "sns.boxplot(x='tag', y='score', data=df)\n",
    "\n",
    "tag2count = df['tag'].value_counts()\n",
    "print('Samples group by tag:')\n",
    "print(tag2count)\n",
    "\n",
    "# Create tag id\n",
    "tag2index = dict((v, k) for k, v in enumerate(tag2count.index))\n",
    "df.loc[:, 'tag_index'] = df['tag'].apply(lambda s: tag2index[s])"
   ]
  },
  {
   "cell_type": "code",
   "execution_count": 8,
   "metadata": {},
   "outputs": [],
   "source": [
    "# Create column for length of title\n",
    "df.loc[:, 'title_len'] = df['title'].apply(lambda s: len(s))\n",
    "\n",
    "# Create column for length of body\n",
    "df.loc[:, 'body_len'] = df['body'].apply(lambda s: len(s) if isinstance(s, str) else 0)"
   ]
  },
  {
   "cell_type": "code",
   "execution_count": 9,
   "metadata": {},
   "outputs": [
    {
     "name": "stdout",
     "output_type": "stream",
     "text": [
      "Maximum score before scaling: 83382.0\n",
      "Maximum score after scaling: 0.83382\n"
     ]
    }
   ],
   "source": [
    "# Scale the score to [0, 1]\n",
    "print('Maximum score before scaling: {}'.format(max(df['score'])))\n",
    "df['score'] = df['score'] / 1e5\n",
    "print('Maximum score after scaling: {}'.format(max(df['score'])))"
   ]
  },
  {
   "cell_type": "markdown",
   "metadata": {},
   "source": [
    "**Remark**\n",
    "1. \"score\" and \"upvote ratio\" are significantly correlated, indicating that upvote_ratio could be an important attribute of a successful post.\n",
    "2. Tag is a potential attribute of interest and we will try including them as a feature in the prediction model. To get more detailed topics, below we also use LDA model to extract topics of each post, and then add them to the prediction model as well."
   ]
  },
  {
   "cell_type": "markdown",
   "metadata": {},
   "source": [
    "## Topic Model"
   ]
  },
  {
   "cell_type": "code",
   "execution_count": 10,
   "metadata": {},
   "outputs": [],
   "source": [
    "titles = [simple_preprocess(s, deacc=True) if isinstance(s, str) else [] for s in df['title']]\n",
    "bodies = [simple_preprocess(s, deacc=True) if isinstance(s, str) else [] for s in df['body']]\n",
    "all_texts = titles + bodies\n",
    "my_dictionary = corpora.Dictionary(all_texts)\n",
    "doc_bow = [my_dictionary.doc2bow(t) for t in all_texts]"
   ]
  },
  {
   "cell_type": "code",
   "execution_count": 12,
   "metadata": {},
   "outputs": [
    {
     "name": "stdout",
     "output_type": "stream",
     "text": [
      "Assume there are 100 topics.\n"
     ]
    },
    {
     "name": "stderr",
     "output_type": "stream",
     "text": [
      "C:\\Users\\yu\\AppData\\Local\\Continuum\\anaconda3\\lib\\site-packages\\gensim\\models\\ldamodel.py:775: RuntimeWarning: divide by zero encountered in log\n",
      "  diff = np.log(self.expElogbeta)\n"
     ]
    },
    {
     "name": "stdout",
     "output_type": "stream",
     "text": [
      "The LDA model is trained.\n"
     ]
    }
   ],
   "source": [
    "num_topics = 100  \n",
    "print(f'Assume there are {num_topics} topics.')\n",
    "LDA_model = LdaModel(corpus=doc_bow, num_topics=num_topics)\n",
    "print('The LDA model is trained.')"
   ]
  },
  {
   "cell_type": "code",
   "execution_count": 16,
   "metadata": {},
   "outputs": [
    {
     "name": "stdout",
     "output_type": "stream",
     "text": [
      "Created topic features for titles and bodies\n"
     ]
    }
   ],
   "source": [
    "# Get topics from LDA model for each title and body\n",
    "\n",
    "def doc2topic(s, dictionary, lda_model, num_topics):\n",
    "    '''\n",
    "    Transform a string to a vector of length num_topics, where each non-zero value is the weight of the corresponding topic\n",
    "    '''\n",
    "    bow = dictionary.doc2bow(s)\n",
    "    topics = lda_model[bow]\n",
    "    topic_fea = [0] * num_topics \n",
    "    for topic in topics:\n",
    "        topic_fea[topic[0]] = topic[1]\n",
    "    return topic_fea\n",
    "\n",
    "title_lda = [doc2topic(t, my_dictionary, LDA_model, num_topics) for t in titles]\n",
    "title_lda_names = ['title_lda_{}'.format(i) for i in range(num_topics)]\n",
    "title_lda = pd.DataFrame(title_lda, columns=title_lda_names)\n",
    "\n",
    "body_lda = [doc2topic(t, my_dictionary, LDA_model, num_topics) for t in bodies]\n",
    "body_lda_names = ['body_lda_{}'.format(i) for i in range(num_topics)]\n",
    "body_lda = pd.DataFrame(body_lda, columns=body_lda_names)\n",
    "\n",
    "print('Created topic features for titles and bodies')"
   ]
  },
  {
   "cell_type": "markdown",
   "metadata": {},
   "source": [
    "## Text Embeddings with BERT\n",
    "Topics extracted from the posts may not be sufficient to predict the score. Now we try to encode the posts into embeddings with the BERT model. We will study the effectiveness of both the topic features and text embeddings in the prediction model. "
   ]
  },
  {
   "cell_type": "code",
   "execution_count": 18,
   "metadata": {},
   "outputs": [
    {
     "name": "stdout",
     "output_type": "stream",
     "text": [
      "Load the BERT model\n"
     ]
    },
    {
     "data": {
      "text/plain": [
       "BertModel(\n",
       "  (embeddings): BertEmbeddings(\n",
       "    (word_embeddings): Embedding(30522, 768, padding_idx=0)\n",
       "    (position_embeddings): Embedding(512, 768)\n",
       "    (token_type_embeddings): Embedding(2, 768)\n",
       "    (LayerNorm): LayerNorm((768,), eps=1e-12, elementwise_affine=True)\n",
       "    (dropout): Dropout(p=0.1, inplace=False)\n",
       "  )\n",
       "  (encoder): BertEncoder(\n",
       "    (layer): ModuleList(\n",
       "      (0): BertLayer(\n",
       "        (attention): BertAttention(\n",
       "          (self): BertSelfAttention(\n",
       "            (query): Linear(in_features=768, out_features=768, bias=True)\n",
       "            (key): Linear(in_features=768, out_features=768, bias=True)\n",
       "            (value): Linear(in_features=768, out_features=768, bias=True)\n",
       "            (dropout): Dropout(p=0.1, inplace=False)\n",
       "          )\n",
       "          (output): BertSelfOutput(\n",
       "            (dense): Linear(in_features=768, out_features=768, bias=True)\n",
       "            (LayerNorm): LayerNorm((768,), eps=1e-12, elementwise_affine=True)\n",
       "            (dropout): Dropout(p=0.1, inplace=False)\n",
       "          )\n",
       "        )\n",
       "        (intermediate): BertIntermediate(\n",
       "          (dense): Linear(in_features=768, out_features=3072, bias=True)\n",
       "        )\n",
       "        (output): BertOutput(\n",
       "          (dense): Linear(in_features=3072, out_features=768, bias=True)\n",
       "          (LayerNorm): LayerNorm((768,), eps=1e-12, elementwise_affine=True)\n",
       "          (dropout): Dropout(p=0.1, inplace=False)\n",
       "        )\n",
       "      )\n",
       "      (1): BertLayer(\n",
       "        (attention): BertAttention(\n",
       "          (self): BertSelfAttention(\n",
       "            (query): Linear(in_features=768, out_features=768, bias=True)\n",
       "            (key): Linear(in_features=768, out_features=768, bias=True)\n",
       "            (value): Linear(in_features=768, out_features=768, bias=True)\n",
       "            (dropout): Dropout(p=0.1, inplace=False)\n",
       "          )\n",
       "          (output): BertSelfOutput(\n",
       "            (dense): Linear(in_features=768, out_features=768, bias=True)\n",
       "            (LayerNorm): LayerNorm((768,), eps=1e-12, elementwise_affine=True)\n",
       "            (dropout): Dropout(p=0.1, inplace=False)\n",
       "          )\n",
       "        )\n",
       "        (intermediate): BertIntermediate(\n",
       "          (dense): Linear(in_features=768, out_features=3072, bias=True)\n",
       "        )\n",
       "        (output): BertOutput(\n",
       "          (dense): Linear(in_features=3072, out_features=768, bias=True)\n",
       "          (LayerNorm): LayerNorm((768,), eps=1e-12, elementwise_affine=True)\n",
       "          (dropout): Dropout(p=0.1, inplace=False)\n",
       "        )\n",
       "      )\n",
       "      (2): BertLayer(\n",
       "        (attention): BertAttention(\n",
       "          (self): BertSelfAttention(\n",
       "            (query): Linear(in_features=768, out_features=768, bias=True)\n",
       "            (key): Linear(in_features=768, out_features=768, bias=True)\n",
       "            (value): Linear(in_features=768, out_features=768, bias=True)\n",
       "            (dropout): Dropout(p=0.1, inplace=False)\n",
       "          )\n",
       "          (output): BertSelfOutput(\n",
       "            (dense): Linear(in_features=768, out_features=768, bias=True)\n",
       "            (LayerNorm): LayerNorm((768,), eps=1e-12, elementwise_affine=True)\n",
       "            (dropout): Dropout(p=0.1, inplace=False)\n",
       "          )\n",
       "        )\n",
       "        (intermediate): BertIntermediate(\n",
       "          (dense): Linear(in_features=768, out_features=3072, bias=True)\n",
       "        )\n",
       "        (output): BertOutput(\n",
       "          (dense): Linear(in_features=3072, out_features=768, bias=True)\n",
       "          (LayerNorm): LayerNorm((768,), eps=1e-12, elementwise_affine=True)\n",
       "          (dropout): Dropout(p=0.1, inplace=False)\n",
       "        )\n",
       "      )\n",
       "      (3): BertLayer(\n",
       "        (attention): BertAttention(\n",
       "          (self): BertSelfAttention(\n",
       "            (query): Linear(in_features=768, out_features=768, bias=True)\n",
       "            (key): Linear(in_features=768, out_features=768, bias=True)\n",
       "            (value): Linear(in_features=768, out_features=768, bias=True)\n",
       "            (dropout): Dropout(p=0.1, inplace=False)\n",
       "          )\n",
       "          (output): BertSelfOutput(\n",
       "            (dense): Linear(in_features=768, out_features=768, bias=True)\n",
       "            (LayerNorm): LayerNorm((768,), eps=1e-12, elementwise_affine=True)\n",
       "            (dropout): Dropout(p=0.1, inplace=False)\n",
       "          )\n",
       "        )\n",
       "        (intermediate): BertIntermediate(\n",
       "          (dense): Linear(in_features=768, out_features=3072, bias=True)\n",
       "        )\n",
       "        (output): BertOutput(\n",
       "          (dense): Linear(in_features=3072, out_features=768, bias=True)\n",
       "          (LayerNorm): LayerNorm((768,), eps=1e-12, elementwise_affine=True)\n",
       "          (dropout): Dropout(p=0.1, inplace=False)\n",
       "        )\n",
       "      )\n",
       "      (4): BertLayer(\n",
       "        (attention): BertAttention(\n",
       "          (self): BertSelfAttention(\n",
       "            (query): Linear(in_features=768, out_features=768, bias=True)\n",
       "            (key): Linear(in_features=768, out_features=768, bias=True)\n",
       "            (value): Linear(in_features=768, out_features=768, bias=True)\n",
       "            (dropout): Dropout(p=0.1, inplace=False)\n",
       "          )\n",
       "          (output): BertSelfOutput(\n",
       "            (dense): Linear(in_features=768, out_features=768, bias=True)\n",
       "            (LayerNorm): LayerNorm((768,), eps=1e-12, elementwise_affine=True)\n",
       "            (dropout): Dropout(p=0.1, inplace=False)\n",
       "          )\n",
       "        )\n",
       "        (intermediate): BertIntermediate(\n",
       "          (dense): Linear(in_features=768, out_features=3072, bias=True)\n",
       "        )\n",
       "        (output): BertOutput(\n",
       "          (dense): Linear(in_features=3072, out_features=768, bias=True)\n",
       "          (LayerNorm): LayerNorm((768,), eps=1e-12, elementwise_affine=True)\n",
       "          (dropout): Dropout(p=0.1, inplace=False)\n",
       "        )\n",
       "      )\n",
       "      (5): BertLayer(\n",
       "        (attention): BertAttention(\n",
       "          (self): BertSelfAttention(\n",
       "            (query): Linear(in_features=768, out_features=768, bias=True)\n",
       "            (key): Linear(in_features=768, out_features=768, bias=True)\n",
       "            (value): Linear(in_features=768, out_features=768, bias=True)\n",
       "            (dropout): Dropout(p=0.1, inplace=False)\n",
       "          )\n",
       "          (output): BertSelfOutput(\n",
       "            (dense): Linear(in_features=768, out_features=768, bias=True)\n",
       "            (LayerNorm): LayerNorm((768,), eps=1e-12, elementwise_affine=True)\n",
       "            (dropout): Dropout(p=0.1, inplace=False)\n",
       "          )\n",
       "        )\n",
       "        (intermediate): BertIntermediate(\n",
       "          (dense): Linear(in_features=768, out_features=3072, bias=True)\n",
       "        )\n",
       "        (output): BertOutput(\n",
       "          (dense): Linear(in_features=3072, out_features=768, bias=True)\n",
       "          (LayerNorm): LayerNorm((768,), eps=1e-12, elementwise_affine=True)\n",
       "          (dropout): Dropout(p=0.1, inplace=False)\n",
       "        )\n",
       "      )\n",
       "      (6): BertLayer(\n",
       "        (attention): BertAttention(\n",
       "          (self): BertSelfAttention(\n",
       "            (query): Linear(in_features=768, out_features=768, bias=True)\n",
       "            (key): Linear(in_features=768, out_features=768, bias=True)\n",
       "            (value): Linear(in_features=768, out_features=768, bias=True)\n",
       "            (dropout): Dropout(p=0.1, inplace=False)\n",
       "          )\n",
       "          (output): BertSelfOutput(\n",
       "            (dense): Linear(in_features=768, out_features=768, bias=True)\n",
       "            (LayerNorm): LayerNorm((768,), eps=1e-12, elementwise_affine=True)\n",
       "            (dropout): Dropout(p=0.1, inplace=False)\n",
       "          )\n",
       "        )\n",
       "        (intermediate): BertIntermediate(\n",
       "          (dense): Linear(in_features=768, out_features=3072, bias=True)\n",
       "        )\n",
       "        (output): BertOutput(\n",
       "          (dense): Linear(in_features=3072, out_features=768, bias=True)\n",
       "          (LayerNorm): LayerNorm((768,), eps=1e-12, elementwise_affine=True)\n",
       "          (dropout): Dropout(p=0.1, inplace=False)\n",
       "        )\n",
       "      )\n",
       "      (7): BertLayer(\n",
       "        (attention): BertAttention(\n",
       "          (self): BertSelfAttention(\n",
       "            (query): Linear(in_features=768, out_features=768, bias=True)\n",
       "            (key): Linear(in_features=768, out_features=768, bias=True)\n",
       "            (value): Linear(in_features=768, out_features=768, bias=True)\n",
       "            (dropout): Dropout(p=0.1, inplace=False)\n",
       "          )\n",
       "          (output): BertSelfOutput(\n",
       "            (dense): Linear(in_features=768, out_features=768, bias=True)\n",
       "            (LayerNorm): LayerNorm((768,), eps=1e-12, elementwise_affine=True)\n",
       "            (dropout): Dropout(p=0.1, inplace=False)\n",
       "          )\n",
       "        )\n",
       "        (intermediate): BertIntermediate(\n",
       "          (dense): Linear(in_features=768, out_features=3072, bias=True)\n",
       "        )\n",
       "        (output): BertOutput(\n",
       "          (dense): Linear(in_features=3072, out_features=768, bias=True)\n",
       "          (LayerNorm): LayerNorm((768,), eps=1e-12, elementwise_affine=True)\n",
       "          (dropout): Dropout(p=0.1, inplace=False)\n",
       "        )\n",
       "      )\n",
       "      (8): BertLayer(\n",
       "        (attention): BertAttention(\n",
       "          (self): BertSelfAttention(\n",
       "            (query): Linear(in_features=768, out_features=768, bias=True)\n",
       "            (key): Linear(in_features=768, out_features=768, bias=True)\n",
       "            (value): Linear(in_features=768, out_features=768, bias=True)\n",
       "            (dropout): Dropout(p=0.1, inplace=False)\n",
       "          )\n",
       "          (output): BertSelfOutput(\n",
       "            (dense): Linear(in_features=768, out_features=768, bias=True)\n",
       "            (LayerNorm): LayerNorm((768,), eps=1e-12, elementwise_affine=True)\n",
       "            (dropout): Dropout(p=0.1, inplace=False)\n",
       "          )\n",
       "        )\n",
       "        (intermediate): BertIntermediate(\n",
       "          (dense): Linear(in_features=768, out_features=3072, bias=True)\n",
       "        )\n",
       "        (output): BertOutput(\n",
       "          (dense): Linear(in_features=3072, out_features=768, bias=True)\n",
       "          (LayerNorm): LayerNorm((768,), eps=1e-12, elementwise_affine=True)\n",
       "          (dropout): Dropout(p=0.1, inplace=False)\n",
       "        )\n",
       "      )\n",
       "      (9): BertLayer(\n",
       "        (attention): BertAttention(\n",
       "          (self): BertSelfAttention(\n",
       "            (query): Linear(in_features=768, out_features=768, bias=True)\n",
       "            (key): Linear(in_features=768, out_features=768, bias=True)\n",
       "            (value): Linear(in_features=768, out_features=768, bias=True)\n",
       "            (dropout): Dropout(p=0.1, inplace=False)\n",
       "          )\n",
       "          (output): BertSelfOutput(\n",
       "            (dense): Linear(in_features=768, out_features=768, bias=True)\n",
       "            (LayerNorm): LayerNorm((768,), eps=1e-12, elementwise_affine=True)\n",
       "            (dropout): Dropout(p=0.1, inplace=False)\n",
       "          )\n",
       "        )\n",
       "        (intermediate): BertIntermediate(\n",
       "          (dense): Linear(in_features=768, out_features=3072, bias=True)\n",
       "        )\n",
       "        (output): BertOutput(\n",
       "          (dense): Linear(in_features=3072, out_features=768, bias=True)\n",
       "          (LayerNorm): LayerNorm((768,), eps=1e-12, elementwise_affine=True)\n",
       "          (dropout): Dropout(p=0.1, inplace=False)\n",
       "        )\n",
       "      )\n",
       "      (10): BertLayer(\n",
       "        (attention): BertAttention(\n",
       "          (self): BertSelfAttention(\n",
       "            (query): Linear(in_features=768, out_features=768, bias=True)\n",
       "            (key): Linear(in_features=768, out_features=768, bias=True)\n",
       "            (value): Linear(in_features=768, out_features=768, bias=True)\n",
       "            (dropout): Dropout(p=0.1, inplace=False)\n",
       "          )\n",
       "          (output): BertSelfOutput(\n",
       "            (dense): Linear(in_features=768, out_features=768, bias=True)\n",
       "            (LayerNorm): LayerNorm((768,), eps=1e-12, elementwise_affine=True)\n",
       "            (dropout): Dropout(p=0.1, inplace=False)\n",
       "          )\n",
       "        )\n",
       "        (intermediate): BertIntermediate(\n",
       "          (dense): Linear(in_features=768, out_features=3072, bias=True)\n",
       "        )\n",
       "        (output): BertOutput(\n",
       "          (dense): Linear(in_features=3072, out_features=768, bias=True)\n",
       "          (LayerNorm): LayerNorm((768,), eps=1e-12, elementwise_affine=True)\n",
       "          (dropout): Dropout(p=0.1, inplace=False)\n",
       "        )\n",
       "      )\n",
       "      (11): BertLayer(\n",
       "        (attention): BertAttention(\n",
       "          (self): BertSelfAttention(\n",
       "            (query): Linear(in_features=768, out_features=768, bias=True)\n",
       "            (key): Linear(in_features=768, out_features=768, bias=True)\n",
       "            (value): Linear(in_features=768, out_features=768, bias=True)\n",
       "            (dropout): Dropout(p=0.1, inplace=False)\n",
       "          )\n",
       "          (output): BertSelfOutput(\n",
       "            (dense): Linear(in_features=768, out_features=768, bias=True)\n",
       "            (LayerNorm): LayerNorm((768,), eps=1e-12, elementwise_affine=True)\n",
       "            (dropout): Dropout(p=0.1, inplace=False)\n",
       "          )\n",
       "        )\n",
       "        (intermediate): BertIntermediate(\n",
       "          (dense): Linear(in_features=768, out_features=3072, bias=True)\n",
       "        )\n",
       "        (output): BertOutput(\n",
       "          (dense): Linear(in_features=3072, out_features=768, bias=True)\n",
       "          (LayerNorm): LayerNorm((768,), eps=1e-12, elementwise_affine=True)\n",
       "          (dropout): Dropout(p=0.1, inplace=False)\n",
       "        )\n",
       "      )\n",
       "    )\n",
       "  )\n",
       "  (pooler): BertPooler(\n",
       "    (dense): Linear(in_features=768, out_features=768, bias=True)\n",
       "    (activation): Tanh()\n",
       "  )\n",
       ")"
      ]
     },
     "execution_count": 18,
     "metadata": {},
     "output_type": "execute_result"
    }
   ],
   "source": [
    "# Load the BERT model\n",
    "emb_size = 768\n",
    "device = \"cuda\" if torch.cuda.is_available() else \"cpu\"\n",
    "print('Load the BERT model')\n",
    "tokenizer = BertTokenizer.from_pretrained('bert-base-uncased')\n",
    "model = BertModel.from_pretrained('bert-base-uncased').to(device)\n",
    "model.eval()"
   ]
  },
  {
   "cell_type": "code",
   "execution_count": 19,
   "metadata": {},
   "outputs": [
    {
     "name": "stdout",
     "output_type": "stream",
     "text": [
      "Get title embeddings\n",
      "processing 500/4205\n",
      "processing 1000/4205\n",
      "processing 1500/4205\n",
      "processing 2000/4205\n",
      "processing 2500/4205\n",
      "processing 3000/4205\n",
      "processing 3500/4205\n",
      "processing 4000/4205\n",
      "Get body embeddings\n",
      "processing 500/4205\n",
      "processing 1000/4205\n",
      "processing 1500/4205\n",
      "processing 2000/4205\n",
      "processing 2500/4205\n",
      "processing 3000/4205\n",
      "processing 3500/4205\n",
      "processing 4000/4205\n"
     ]
    }
   ],
   "source": [
    "# Encode titles and bodies into embeddings\n",
    "\n",
    "def get_bert_embedding(s, tokenizer, model, emb_size):\n",
    "    if not isinstance(s, str): # s is nan\n",
    "        return [0] * emb_size\n",
    "    else:\n",
    "        s = tokenizer(s[:tokenizer.model_max_length], return_tensors=\"pt\")\n",
    "        outputs = model(**s)\n",
    "        return torch.mean(torch.squeeze(outputs.last_hidden_state), dim=0).cpu().numpy().tolist()\n",
    "\n",
    "print('Get title embeddings')\n",
    "title_bert_emb = []\n",
    "with torch.no_grad():\n",
    "    for i, s in enumerate(df['title'], start=1):\n",
    "        if i % 500 == 0:\n",
    "            print('processing {}/{}'.format(i, total_samples))\n",
    "        title_bert_emb.append(get_bert_embedding(s, tokenizer, model, emb_size))\n",
    "title_bert_emb_names = ['title_bert_emb_{}'.format(i) for i in range(emb_size)]\n",
    "title_bert_emb = pd.DataFrame(title_bert_emb, columns=title_bert_emb_names)\n",
    "\n",
    "print('Get body embeddings')\n",
    "body_bert_emb = []\n",
    "with torch.no_grad():\n",
    "    for i, s in enumerate(df['body'], start=1):\n",
    "        if i % 500 == 0:\n",
    "            print('processing {}/{}'.format(i, total_samples))\n",
    "        body_bert_emb.append(get_bert_embedding(s, tokenizer, model, emb_size))\n",
    "body_bert_emb_names = ['body_bert_emb_{}'.format(i) for i in range(emb_size)]\n",
    "body_bert_emb = pd.DataFrame(body_bert_emb, columns=body_bert_emb_names)\n"
   ]
  },
  {
   "cell_type": "code",
   "execution_count": 20,
   "metadata": {},
   "outputs": [],
   "source": [
    "# Merge all features together\n",
    "df = pd.concat([df, title_lda, body_lda, title_bert_emb, body_bert_emb], axis=1)"
   ]
  },
  {
   "cell_type": "markdown",
   "metadata": {},
   "source": [
    "## Prediction Model"
   ]
  },
  {
   "cell_type": "code",
   "execution_count": 40,
   "metadata": {},
   "outputs": [
    {
     "name": "stdout",
     "output_type": "stream",
     "text": [
      "['tag_index', 'title_len', 'body_len', 'upvote_ratio', 'title_bert_emb_0', 'title_bert_emb_1', 'title_bert_emb_2', 'title_bert_emb_3', 'title_bert_emb_4', 'title_bert_emb_5', 'title_bert_emb_6', 'title_bert_emb_7', 'title_bert_emb_8', 'title_bert_emb_9', 'title_bert_emb_10', 'title_bert_emb_11', 'title_bert_emb_12', 'title_bert_emb_13', 'title_bert_emb_14', 'title_bert_emb_15', 'title_bert_emb_16', 'title_bert_emb_17', 'title_bert_emb_18', 'title_bert_emb_19', 'title_bert_emb_20', 'title_bert_emb_21', 'title_bert_emb_22', 'title_bert_emb_23', 'title_bert_emb_24', 'title_bert_emb_25', 'title_bert_emb_26', 'title_bert_emb_27', 'title_bert_emb_28', 'title_bert_emb_29', 'title_bert_emb_30', 'title_bert_emb_31', 'title_bert_emb_32', 'title_bert_emb_33', 'title_bert_emb_34', 'title_bert_emb_35', 'title_bert_emb_36', 'title_bert_emb_37', 'title_bert_emb_38', 'title_bert_emb_39', 'title_bert_emb_40', 'title_bert_emb_41', 'title_bert_emb_42', 'title_bert_emb_43', 'title_bert_emb_44', 'title_bert_emb_45', 'title_bert_emb_46', 'title_bert_emb_47', 'title_bert_emb_48', 'title_bert_emb_49', 'title_bert_emb_50', 'title_bert_emb_51', 'title_bert_emb_52', 'title_bert_emb_53', 'title_bert_emb_54', 'title_bert_emb_55', 'title_bert_emb_56', 'title_bert_emb_57', 'title_bert_emb_58', 'title_bert_emb_59', 'title_bert_emb_60', 'title_bert_emb_61', 'title_bert_emb_62', 'title_bert_emb_63', 'title_bert_emb_64', 'title_bert_emb_65', 'title_bert_emb_66', 'title_bert_emb_67', 'title_bert_emb_68', 'title_bert_emb_69', 'title_bert_emb_70', 'title_bert_emb_71', 'title_bert_emb_72', 'title_bert_emb_73', 'title_bert_emb_74', 'title_bert_emb_75', 'title_bert_emb_76', 'title_bert_emb_77', 'title_bert_emb_78', 'title_bert_emb_79', 'title_bert_emb_80', 'title_bert_emb_81', 'title_bert_emb_82', 'title_bert_emb_83', 'title_bert_emb_84', 'title_bert_emb_85', 'title_bert_emb_86', 'title_bert_emb_87', 'title_bert_emb_88', 'title_bert_emb_89', 'title_bert_emb_90', 'title_bert_emb_91', 'title_bert_emb_92', 'title_bert_emb_93', 'title_bert_emb_94', 'title_bert_emb_95', 'title_bert_emb_96', 'title_bert_emb_97', 'title_bert_emb_98', 'title_bert_emb_99', 'title_bert_emb_100', 'title_bert_emb_101', 'title_bert_emb_102', 'title_bert_emb_103', 'title_bert_emb_104', 'title_bert_emb_105', 'title_bert_emb_106', 'title_bert_emb_107', 'title_bert_emb_108', 'title_bert_emb_109', 'title_bert_emb_110', 'title_bert_emb_111', 'title_bert_emb_112', 'title_bert_emb_113', 'title_bert_emb_114', 'title_bert_emb_115', 'title_bert_emb_116', 'title_bert_emb_117', 'title_bert_emb_118', 'title_bert_emb_119', 'title_bert_emb_120', 'title_bert_emb_121', 'title_bert_emb_122', 'title_bert_emb_123', 'title_bert_emb_124', 'title_bert_emb_125', 'title_bert_emb_126', 'title_bert_emb_127', 'title_bert_emb_128', 'title_bert_emb_129', 'title_bert_emb_130', 'title_bert_emb_131', 'title_bert_emb_132', 'title_bert_emb_133', 'title_bert_emb_134', 'title_bert_emb_135', 'title_bert_emb_136', 'title_bert_emb_137', 'title_bert_emb_138', 'title_bert_emb_139', 'title_bert_emb_140', 'title_bert_emb_141', 'title_bert_emb_142', 'title_bert_emb_143', 'title_bert_emb_144', 'title_bert_emb_145', 'title_bert_emb_146', 'title_bert_emb_147', 'title_bert_emb_148', 'title_bert_emb_149', 'title_bert_emb_150', 'title_bert_emb_151', 'title_bert_emb_152', 'title_bert_emb_153', 'title_bert_emb_154', 'title_bert_emb_155', 'title_bert_emb_156', 'title_bert_emb_157', 'title_bert_emb_158', 'title_bert_emb_159', 'title_bert_emb_160', 'title_bert_emb_161', 'title_bert_emb_162', 'title_bert_emb_163', 'title_bert_emb_164', 'title_bert_emb_165', 'title_bert_emb_166', 'title_bert_emb_167', 'title_bert_emb_168', 'title_bert_emb_169', 'title_bert_emb_170', 'title_bert_emb_171', 'title_bert_emb_172', 'title_bert_emb_173', 'title_bert_emb_174', 'title_bert_emb_175', 'title_bert_emb_176', 'title_bert_emb_177', 'title_bert_emb_178', 'title_bert_emb_179', 'title_bert_emb_180', 'title_bert_emb_181', 'title_bert_emb_182', 'title_bert_emb_183', 'title_bert_emb_184', 'title_bert_emb_185', 'title_bert_emb_186', 'title_bert_emb_187', 'title_bert_emb_188', 'title_bert_emb_189', 'title_bert_emb_190', 'title_bert_emb_191', 'title_bert_emb_192', 'title_bert_emb_193', 'title_bert_emb_194', 'title_bert_emb_195', 'title_bert_emb_196', 'title_bert_emb_197', 'title_bert_emb_198', 'title_bert_emb_199', 'title_bert_emb_200', 'title_bert_emb_201', 'title_bert_emb_202', 'title_bert_emb_203', 'title_bert_emb_204', 'title_bert_emb_205', 'title_bert_emb_206', 'title_bert_emb_207', 'title_bert_emb_208', 'title_bert_emb_209', 'title_bert_emb_210', 'title_bert_emb_211', 'title_bert_emb_212', 'title_bert_emb_213', 'title_bert_emb_214', 'title_bert_emb_215', 'title_bert_emb_216', 'title_bert_emb_217', 'title_bert_emb_218', 'title_bert_emb_219', 'title_bert_emb_220', 'title_bert_emb_221', 'title_bert_emb_222', 'title_bert_emb_223', 'title_bert_emb_224', 'title_bert_emb_225', 'title_bert_emb_226', 'title_bert_emb_227', 'title_bert_emb_228', 'title_bert_emb_229', 'title_bert_emb_230', 'title_bert_emb_231', 'title_bert_emb_232', 'title_bert_emb_233', 'title_bert_emb_234', 'title_bert_emb_235', 'title_bert_emb_236', 'title_bert_emb_237', 'title_bert_emb_238', 'title_bert_emb_239', 'title_bert_emb_240', 'title_bert_emb_241', 'title_bert_emb_242', 'title_bert_emb_243', 'title_bert_emb_244', 'title_bert_emb_245', 'title_bert_emb_246', 'title_bert_emb_247', 'title_bert_emb_248', 'title_bert_emb_249', 'title_bert_emb_250', 'title_bert_emb_251', 'title_bert_emb_252', 'title_bert_emb_253', 'title_bert_emb_254', 'title_bert_emb_255', 'title_bert_emb_256', 'title_bert_emb_257', 'title_bert_emb_258', 'title_bert_emb_259', 'title_bert_emb_260', 'title_bert_emb_261', 'title_bert_emb_262', 'title_bert_emb_263', 'title_bert_emb_264', 'title_bert_emb_265', 'title_bert_emb_266', 'title_bert_emb_267', 'title_bert_emb_268', 'title_bert_emb_269', 'title_bert_emb_270', 'title_bert_emb_271', 'title_bert_emb_272', 'title_bert_emb_273', 'title_bert_emb_274', 'title_bert_emb_275', 'title_bert_emb_276', 'title_bert_emb_277', 'title_bert_emb_278', 'title_bert_emb_279', 'title_bert_emb_280', 'title_bert_emb_281', 'title_bert_emb_282', 'title_bert_emb_283', 'title_bert_emb_284', 'title_bert_emb_285', 'title_bert_emb_286', 'title_bert_emb_287', 'title_bert_emb_288', 'title_bert_emb_289', 'title_bert_emb_290', 'title_bert_emb_291', 'title_bert_emb_292', 'title_bert_emb_293', 'title_bert_emb_294', 'title_bert_emb_295', 'title_bert_emb_296', 'title_bert_emb_297', 'title_bert_emb_298', 'title_bert_emb_299', 'title_bert_emb_300', 'title_bert_emb_301', 'title_bert_emb_302', 'title_bert_emb_303', 'title_bert_emb_304', 'title_bert_emb_305', 'title_bert_emb_306', 'title_bert_emb_307', 'title_bert_emb_308', 'title_bert_emb_309', 'title_bert_emb_310', 'title_bert_emb_311', 'title_bert_emb_312', 'title_bert_emb_313', 'title_bert_emb_314', 'title_bert_emb_315', 'title_bert_emb_316', 'title_bert_emb_317', 'title_bert_emb_318', 'title_bert_emb_319', 'title_bert_emb_320', 'title_bert_emb_321', 'title_bert_emb_322', 'title_bert_emb_323', 'title_bert_emb_324', 'title_bert_emb_325', 'title_bert_emb_326', 'title_bert_emb_327', 'title_bert_emb_328', 'title_bert_emb_329', 'title_bert_emb_330', 'title_bert_emb_331', 'title_bert_emb_332', 'title_bert_emb_333', 'title_bert_emb_334', 'title_bert_emb_335', 'title_bert_emb_336', 'title_bert_emb_337', 'title_bert_emb_338', 'title_bert_emb_339', 'title_bert_emb_340', 'title_bert_emb_341', 'title_bert_emb_342', 'title_bert_emb_343', 'title_bert_emb_344', 'title_bert_emb_345', 'title_bert_emb_346', 'title_bert_emb_347', 'title_bert_emb_348', 'title_bert_emb_349', 'title_bert_emb_350', 'title_bert_emb_351', 'title_bert_emb_352', 'title_bert_emb_353', 'title_bert_emb_354', 'title_bert_emb_355', 'title_bert_emb_356', 'title_bert_emb_357', 'title_bert_emb_358', 'title_bert_emb_359', 'title_bert_emb_360', 'title_bert_emb_361', 'title_bert_emb_362', 'title_bert_emb_363', 'title_bert_emb_364', 'title_bert_emb_365', 'title_bert_emb_366', 'title_bert_emb_367', 'title_bert_emb_368', 'title_bert_emb_369', 'title_bert_emb_370', 'title_bert_emb_371', 'title_bert_emb_372', 'title_bert_emb_373', 'title_bert_emb_374', 'title_bert_emb_375', 'title_bert_emb_376', 'title_bert_emb_377', 'title_bert_emb_378', 'title_bert_emb_379', 'title_bert_emb_380', 'title_bert_emb_381', 'title_bert_emb_382', 'title_bert_emb_383', 'title_bert_emb_384', 'title_bert_emb_385', 'title_bert_emb_386', 'title_bert_emb_387', 'title_bert_emb_388', 'title_bert_emb_389', 'title_bert_emb_390', 'title_bert_emb_391', 'title_bert_emb_392', 'title_bert_emb_393', 'title_bert_emb_394', 'title_bert_emb_395', 'title_bert_emb_396', 'title_bert_emb_397', 'title_bert_emb_398', 'title_bert_emb_399', 'title_bert_emb_400', 'title_bert_emb_401', 'title_bert_emb_402', 'title_bert_emb_403', 'title_bert_emb_404', 'title_bert_emb_405', 'title_bert_emb_406', 'title_bert_emb_407', 'title_bert_emb_408', 'title_bert_emb_409', 'title_bert_emb_410', 'title_bert_emb_411', 'title_bert_emb_412', 'title_bert_emb_413', 'title_bert_emb_414', 'title_bert_emb_415', 'title_bert_emb_416', 'title_bert_emb_417', 'title_bert_emb_418', 'title_bert_emb_419', 'title_bert_emb_420', 'title_bert_emb_421', 'title_bert_emb_422', 'title_bert_emb_423', 'title_bert_emb_424', 'title_bert_emb_425', 'title_bert_emb_426', 'title_bert_emb_427', 'title_bert_emb_428', 'title_bert_emb_429', 'title_bert_emb_430', 'title_bert_emb_431', 'title_bert_emb_432', 'title_bert_emb_433', 'title_bert_emb_434', 'title_bert_emb_435', 'title_bert_emb_436', 'title_bert_emb_437', 'title_bert_emb_438', 'title_bert_emb_439', 'title_bert_emb_440', 'title_bert_emb_441', 'title_bert_emb_442', 'title_bert_emb_443', 'title_bert_emb_444', 'title_bert_emb_445', 'title_bert_emb_446', 'title_bert_emb_447', 'title_bert_emb_448', 'title_bert_emb_449', 'title_bert_emb_450', 'title_bert_emb_451', 'title_bert_emb_452', 'title_bert_emb_453', 'title_bert_emb_454', 'title_bert_emb_455', 'title_bert_emb_456', 'title_bert_emb_457', 'title_bert_emb_458', 'title_bert_emb_459', 'title_bert_emb_460', 'title_bert_emb_461', 'title_bert_emb_462', 'title_bert_emb_463', 'title_bert_emb_464', 'title_bert_emb_465', 'title_bert_emb_466', 'title_bert_emb_467', 'title_bert_emb_468', 'title_bert_emb_469', 'title_bert_emb_470', 'title_bert_emb_471', 'title_bert_emb_472', 'title_bert_emb_473', 'title_bert_emb_474', 'title_bert_emb_475', 'title_bert_emb_476', 'title_bert_emb_477', 'title_bert_emb_478', 'title_bert_emb_479', 'title_bert_emb_480', 'title_bert_emb_481', 'title_bert_emb_482', 'title_bert_emb_483', 'title_bert_emb_484', 'title_bert_emb_485', 'title_bert_emb_486', 'title_bert_emb_487', 'title_bert_emb_488', 'title_bert_emb_489', 'title_bert_emb_490', 'title_bert_emb_491', 'title_bert_emb_492', 'title_bert_emb_493', 'title_bert_emb_494', 'title_bert_emb_495', 'title_bert_emb_496', 'title_bert_emb_497', 'title_bert_emb_498', 'title_bert_emb_499', 'title_bert_emb_500', 'title_bert_emb_501', 'title_bert_emb_502', 'title_bert_emb_503', 'title_bert_emb_504', 'title_bert_emb_505', 'title_bert_emb_506', 'title_bert_emb_507', 'title_bert_emb_508', 'title_bert_emb_509', 'title_bert_emb_510', 'title_bert_emb_511', 'title_bert_emb_512', 'title_bert_emb_513', 'title_bert_emb_514', 'title_bert_emb_515', 'title_bert_emb_516', 'title_bert_emb_517', 'title_bert_emb_518', 'title_bert_emb_519', 'title_bert_emb_520', 'title_bert_emb_521', 'title_bert_emb_522', 'title_bert_emb_523', 'title_bert_emb_524', 'title_bert_emb_525', 'title_bert_emb_526', 'title_bert_emb_527', 'title_bert_emb_528', 'title_bert_emb_529', 'title_bert_emb_530', 'title_bert_emb_531', 'title_bert_emb_532', 'title_bert_emb_533', 'title_bert_emb_534', 'title_bert_emb_535', 'title_bert_emb_536', 'title_bert_emb_537', 'title_bert_emb_538', 'title_bert_emb_539', 'title_bert_emb_540', 'title_bert_emb_541', 'title_bert_emb_542', 'title_bert_emb_543', 'title_bert_emb_544', 'title_bert_emb_545', 'title_bert_emb_546', 'title_bert_emb_547', 'title_bert_emb_548', 'title_bert_emb_549', 'title_bert_emb_550', 'title_bert_emb_551', 'title_bert_emb_552', 'title_bert_emb_553', 'title_bert_emb_554', 'title_bert_emb_555', 'title_bert_emb_556', 'title_bert_emb_557', 'title_bert_emb_558', 'title_bert_emb_559', 'title_bert_emb_560', 'title_bert_emb_561', 'title_bert_emb_562', 'title_bert_emb_563', 'title_bert_emb_564', 'title_bert_emb_565', 'title_bert_emb_566', 'title_bert_emb_567', 'title_bert_emb_568', 'title_bert_emb_569', 'title_bert_emb_570', 'title_bert_emb_571', 'title_bert_emb_572', 'title_bert_emb_573', 'title_bert_emb_574', 'title_bert_emb_575', 'title_bert_emb_576', 'title_bert_emb_577', 'title_bert_emb_578', 'title_bert_emb_579', 'title_bert_emb_580', 'title_bert_emb_581', 'title_bert_emb_582', 'title_bert_emb_583', 'title_bert_emb_584', 'title_bert_emb_585', 'title_bert_emb_586', 'title_bert_emb_587', 'title_bert_emb_588', 'title_bert_emb_589', 'title_bert_emb_590', 'title_bert_emb_591', 'title_bert_emb_592', 'title_bert_emb_593', 'title_bert_emb_594', 'title_bert_emb_595', 'title_bert_emb_596', 'title_bert_emb_597', 'title_bert_emb_598', 'title_bert_emb_599', 'title_bert_emb_600', 'title_bert_emb_601', 'title_bert_emb_602', 'title_bert_emb_603', 'title_bert_emb_604', 'title_bert_emb_605', 'title_bert_emb_606', 'title_bert_emb_607', 'title_bert_emb_608', 'title_bert_emb_609', 'title_bert_emb_610', 'title_bert_emb_611', 'title_bert_emb_612', 'title_bert_emb_613', 'title_bert_emb_614', 'title_bert_emb_615', 'title_bert_emb_616', 'title_bert_emb_617', 'title_bert_emb_618', 'title_bert_emb_619', 'title_bert_emb_620', 'title_bert_emb_621', 'title_bert_emb_622', 'title_bert_emb_623', 'title_bert_emb_624', 'title_bert_emb_625', 'title_bert_emb_626', 'title_bert_emb_627', 'title_bert_emb_628', 'title_bert_emb_629', 'title_bert_emb_630', 'title_bert_emb_631', 'title_bert_emb_632', 'title_bert_emb_633', 'title_bert_emb_634', 'title_bert_emb_635', 'title_bert_emb_636', 'title_bert_emb_637', 'title_bert_emb_638', 'title_bert_emb_639', 'title_bert_emb_640', 'title_bert_emb_641', 'title_bert_emb_642', 'title_bert_emb_643', 'title_bert_emb_644', 'title_bert_emb_645', 'title_bert_emb_646', 'title_bert_emb_647', 'title_bert_emb_648', 'title_bert_emb_649', 'title_bert_emb_650', 'title_bert_emb_651', 'title_bert_emb_652', 'title_bert_emb_653', 'title_bert_emb_654', 'title_bert_emb_655', 'title_bert_emb_656', 'title_bert_emb_657', 'title_bert_emb_658', 'title_bert_emb_659', 'title_bert_emb_660', 'title_bert_emb_661', 'title_bert_emb_662', 'title_bert_emb_663', 'title_bert_emb_664', 'title_bert_emb_665', 'title_bert_emb_666', 'title_bert_emb_667', 'title_bert_emb_668', 'title_bert_emb_669', 'title_bert_emb_670', 'title_bert_emb_671', 'title_bert_emb_672', 'title_bert_emb_673', 'title_bert_emb_674', 'title_bert_emb_675', 'title_bert_emb_676', 'title_bert_emb_677', 'title_bert_emb_678', 'title_bert_emb_679', 'title_bert_emb_680', 'title_bert_emb_681', 'title_bert_emb_682', 'title_bert_emb_683', 'title_bert_emb_684', 'title_bert_emb_685', 'title_bert_emb_686', 'title_bert_emb_687', 'title_bert_emb_688', 'title_bert_emb_689', 'title_bert_emb_690', 'title_bert_emb_691', 'title_bert_emb_692', 'title_bert_emb_693', 'title_bert_emb_694', 'title_bert_emb_695', 'title_bert_emb_696', 'title_bert_emb_697', 'title_bert_emb_698', 'title_bert_emb_699', 'title_bert_emb_700', 'title_bert_emb_701', 'title_bert_emb_702', 'title_bert_emb_703', 'title_bert_emb_704', 'title_bert_emb_705', 'title_bert_emb_706', 'title_bert_emb_707', 'title_bert_emb_708', 'title_bert_emb_709', 'title_bert_emb_710', 'title_bert_emb_711', 'title_bert_emb_712', 'title_bert_emb_713', 'title_bert_emb_714', 'title_bert_emb_715', 'title_bert_emb_716', 'title_bert_emb_717', 'title_bert_emb_718', 'title_bert_emb_719', 'title_bert_emb_720', 'title_bert_emb_721', 'title_bert_emb_722', 'title_bert_emb_723', 'title_bert_emb_724', 'title_bert_emb_725', 'title_bert_emb_726', 'title_bert_emb_727', 'title_bert_emb_728', 'title_bert_emb_729', 'title_bert_emb_730', 'title_bert_emb_731', 'title_bert_emb_732', 'title_bert_emb_733', 'title_bert_emb_734', 'title_bert_emb_735', 'title_bert_emb_736', 'title_bert_emb_737', 'title_bert_emb_738', 'title_bert_emb_739', 'title_bert_emb_740', 'title_bert_emb_741', 'title_bert_emb_742', 'title_bert_emb_743', 'title_bert_emb_744', 'title_bert_emb_745', 'title_bert_emb_746', 'title_bert_emb_747', 'title_bert_emb_748', 'title_bert_emb_749', 'title_bert_emb_750', 'title_bert_emb_751', 'title_bert_emb_752', 'title_bert_emb_753', 'title_bert_emb_754', 'title_bert_emb_755', 'title_bert_emb_756', 'title_bert_emb_757', 'title_bert_emb_758', 'title_bert_emb_759', 'title_bert_emb_760', 'title_bert_emb_761', 'title_bert_emb_762', 'title_bert_emb_763', 'title_bert_emb_764', 'title_bert_emb_765', 'title_bert_emb_766', 'title_bert_emb_767', 'body_bert_emb_0', 'body_bert_emb_1', 'body_bert_emb_2', 'body_bert_emb_3', 'body_bert_emb_4', 'body_bert_emb_5', 'body_bert_emb_6', 'body_bert_emb_7', 'body_bert_emb_8', 'body_bert_emb_9', 'body_bert_emb_10', 'body_bert_emb_11', 'body_bert_emb_12', 'body_bert_emb_13', 'body_bert_emb_14', 'body_bert_emb_15', 'body_bert_emb_16', 'body_bert_emb_17', 'body_bert_emb_18', 'body_bert_emb_19', 'body_bert_emb_20', 'body_bert_emb_21', 'body_bert_emb_22', 'body_bert_emb_23', 'body_bert_emb_24', 'body_bert_emb_25', 'body_bert_emb_26', 'body_bert_emb_27', 'body_bert_emb_28', 'body_bert_emb_29', 'body_bert_emb_30', 'body_bert_emb_31', 'body_bert_emb_32', 'body_bert_emb_33', 'body_bert_emb_34', 'body_bert_emb_35', 'body_bert_emb_36', 'body_bert_emb_37', 'body_bert_emb_38', 'body_bert_emb_39', 'body_bert_emb_40', 'body_bert_emb_41', 'body_bert_emb_42', 'body_bert_emb_43', 'body_bert_emb_44', 'body_bert_emb_45', 'body_bert_emb_46', 'body_bert_emb_47', 'body_bert_emb_48', 'body_bert_emb_49', 'body_bert_emb_50', 'body_bert_emb_51', 'body_bert_emb_52', 'body_bert_emb_53', 'body_bert_emb_54', 'body_bert_emb_55', 'body_bert_emb_56', 'body_bert_emb_57', 'body_bert_emb_58', 'body_bert_emb_59', 'body_bert_emb_60', 'body_bert_emb_61', 'body_bert_emb_62', 'body_bert_emb_63', 'body_bert_emb_64', 'body_bert_emb_65', 'body_bert_emb_66', 'body_bert_emb_67', 'body_bert_emb_68', 'body_bert_emb_69', 'body_bert_emb_70', 'body_bert_emb_71', 'body_bert_emb_72', 'body_bert_emb_73', 'body_bert_emb_74', 'body_bert_emb_75', 'body_bert_emb_76', 'body_bert_emb_77', 'body_bert_emb_78', 'body_bert_emb_79', 'body_bert_emb_80', 'body_bert_emb_81', 'body_bert_emb_82', 'body_bert_emb_83', 'body_bert_emb_84', 'body_bert_emb_85', 'body_bert_emb_86', 'body_bert_emb_87', 'body_bert_emb_88', 'body_bert_emb_89', 'body_bert_emb_90', 'body_bert_emb_91', 'body_bert_emb_92', 'body_bert_emb_93', 'body_bert_emb_94', 'body_bert_emb_95', 'body_bert_emb_96', 'body_bert_emb_97', 'body_bert_emb_98', 'body_bert_emb_99', 'body_bert_emb_100', 'body_bert_emb_101', 'body_bert_emb_102', 'body_bert_emb_103', 'body_bert_emb_104', 'body_bert_emb_105', 'body_bert_emb_106', 'body_bert_emb_107', 'body_bert_emb_108', 'body_bert_emb_109', 'body_bert_emb_110', 'body_bert_emb_111', 'body_bert_emb_112', 'body_bert_emb_113', 'body_bert_emb_114', 'body_bert_emb_115', 'body_bert_emb_116', 'body_bert_emb_117', 'body_bert_emb_118', 'body_bert_emb_119', 'body_bert_emb_120', 'body_bert_emb_121', 'body_bert_emb_122', 'body_bert_emb_123', 'body_bert_emb_124', 'body_bert_emb_125', 'body_bert_emb_126', 'body_bert_emb_127', 'body_bert_emb_128', 'body_bert_emb_129', 'body_bert_emb_130', 'body_bert_emb_131', 'body_bert_emb_132', 'body_bert_emb_133', 'body_bert_emb_134', 'body_bert_emb_135', 'body_bert_emb_136', 'body_bert_emb_137', 'body_bert_emb_138', 'body_bert_emb_139', 'body_bert_emb_140', 'body_bert_emb_141', 'body_bert_emb_142', 'body_bert_emb_143', 'body_bert_emb_144', 'body_bert_emb_145', 'body_bert_emb_146', 'body_bert_emb_147', 'body_bert_emb_148', 'body_bert_emb_149', 'body_bert_emb_150', 'body_bert_emb_151', 'body_bert_emb_152', 'body_bert_emb_153', 'body_bert_emb_154', 'body_bert_emb_155', 'body_bert_emb_156', 'body_bert_emb_157', 'body_bert_emb_158', 'body_bert_emb_159', 'body_bert_emb_160', 'body_bert_emb_161', 'body_bert_emb_162', 'body_bert_emb_163', 'body_bert_emb_164', 'body_bert_emb_165', 'body_bert_emb_166', 'body_bert_emb_167', 'body_bert_emb_168', 'body_bert_emb_169', 'body_bert_emb_170', 'body_bert_emb_171', 'body_bert_emb_172', 'body_bert_emb_173', 'body_bert_emb_174', 'body_bert_emb_175', 'body_bert_emb_176', 'body_bert_emb_177', 'body_bert_emb_178', 'body_bert_emb_179', 'body_bert_emb_180', 'body_bert_emb_181', 'body_bert_emb_182', 'body_bert_emb_183', 'body_bert_emb_184', 'body_bert_emb_185', 'body_bert_emb_186', 'body_bert_emb_187', 'body_bert_emb_188', 'body_bert_emb_189', 'body_bert_emb_190', 'body_bert_emb_191', 'body_bert_emb_192', 'body_bert_emb_193', 'body_bert_emb_194', 'body_bert_emb_195', 'body_bert_emb_196', 'body_bert_emb_197', 'body_bert_emb_198', 'body_bert_emb_199', 'body_bert_emb_200', 'body_bert_emb_201', 'body_bert_emb_202', 'body_bert_emb_203', 'body_bert_emb_204', 'body_bert_emb_205', 'body_bert_emb_206', 'body_bert_emb_207', 'body_bert_emb_208', 'body_bert_emb_209', 'body_bert_emb_210', 'body_bert_emb_211', 'body_bert_emb_212', 'body_bert_emb_213', 'body_bert_emb_214', 'body_bert_emb_215', 'body_bert_emb_216', 'body_bert_emb_217', 'body_bert_emb_218', 'body_bert_emb_219', 'body_bert_emb_220', 'body_bert_emb_221', 'body_bert_emb_222', 'body_bert_emb_223', 'body_bert_emb_224', 'body_bert_emb_225', 'body_bert_emb_226', 'body_bert_emb_227', 'body_bert_emb_228', 'body_bert_emb_229', 'body_bert_emb_230', 'body_bert_emb_231', 'body_bert_emb_232', 'body_bert_emb_233', 'body_bert_emb_234', 'body_bert_emb_235', 'body_bert_emb_236', 'body_bert_emb_237', 'body_bert_emb_238', 'body_bert_emb_239', 'body_bert_emb_240', 'body_bert_emb_241', 'body_bert_emb_242', 'body_bert_emb_243', 'body_bert_emb_244', 'body_bert_emb_245', 'body_bert_emb_246', 'body_bert_emb_247', 'body_bert_emb_248', 'body_bert_emb_249', 'body_bert_emb_250', 'body_bert_emb_251', 'body_bert_emb_252', 'body_bert_emb_253', 'body_bert_emb_254', 'body_bert_emb_255', 'body_bert_emb_256', 'body_bert_emb_257', 'body_bert_emb_258', 'body_bert_emb_259', 'body_bert_emb_260', 'body_bert_emb_261', 'body_bert_emb_262', 'body_bert_emb_263', 'body_bert_emb_264', 'body_bert_emb_265', 'body_bert_emb_266', 'body_bert_emb_267', 'body_bert_emb_268', 'body_bert_emb_269', 'body_bert_emb_270', 'body_bert_emb_271', 'body_bert_emb_272', 'body_bert_emb_273', 'body_bert_emb_274', 'body_bert_emb_275', 'body_bert_emb_276', 'body_bert_emb_277', 'body_bert_emb_278', 'body_bert_emb_279', 'body_bert_emb_280', 'body_bert_emb_281', 'body_bert_emb_282', 'body_bert_emb_283', 'body_bert_emb_284', 'body_bert_emb_285', 'body_bert_emb_286', 'body_bert_emb_287', 'body_bert_emb_288', 'body_bert_emb_289', 'body_bert_emb_290', 'body_bert_emb_291', 'body_bert_emb_292', 'body_bert_emb_293', 'body_bert_emb_294', 'body_bert_emb_295', 'body_bert_emb_296', 'body_bert_emb_297', 'body_bert_emb_298', 'body_bert_emb_299', 'body_bert_emb_300', 'body_bert_emb_301', 'body_bert_emb_302', 'body_bert_emb_303', 'body_bert_emb_304', 'body_bert_emb_305', 'body_bert_emb_306', 'body_bert_emb_307', 'body_bert_emb_308', 'body_bert_emb_309', 'body_bert_emb_310', 'body_bert_emb_311', 'body_bert_emb_312', 'body_bert_emb_313', 'body_bert_emb_314', 'body_bert_emb_315', 'body_bert_emb_316', 'body_bert_emb_317', 'body_bert_emb_318', 'body_bert_emb_319', 'body_bert_emb_320', 'body_bert_emb_321', 'body_bert_emb_322', 'body_bert_emb_323', 'body_bert_emb_324', 'body_bert_emb_325', 'body_bert_emb_326', 'body_bert_emb_327', 'body_bert_emb_328', 'body_bert_emb_329', 'body_bert_emb_330', 'body_bert_emb_331', 'body_bert_emb_332', 'body_bert_emb_333', 'body_bert_emb_334', 'body_bert_emb_335', 'body_bert_emb_336', 'body_bert_emb_337', 'body_bert_emb_338', 'body_bert_emb_339', 'body_bert_emb_340', 'body_bert_emb_341', 'body_bert_emb_342', 'body_bert_emb_343', 'body_bert_emb_344', 'body_bert_emb_345', 'body_bert_emb_346', 'body_bert_emb_347', 'body_bert_emb_348', 'body_bert_emb_349', 'body_bert_emb_350', 'body_bert_emb_351', 'body_bert_emb_352', 'body_bert_emb_353', 'body_bert_emb_354', 'body_bert_emb_355', 'body_bert_emb_356', 'body_bert_emb_357', 'body_bert_emb_358', 'body_bert_emb_359', 'body_bert_emb_360', 'body_bert_emb_361', 'body_bert_emb_362', 'body_bert_emb_363', 'body_bert_emb_364', 'body_bert_emb_365', 'body_bert_emb_366', 'body_bert_emb_367', 'body_bert_emb_368', 'body_bert_emb_369', 'body_bert_emb_370', 'body_bert_emb_371', 'body_bert_emb_372', 'body_bert_emb_373', 'body_bert_emb_374', 'body_bert_emb_375', 'body_bert_emb_376', 'body_bert_emb_377', 'body_bert_emb_378', 'body_bert_emb_379', 'body_bert_emb_380', 'body_bert_emb_381', 'body_bert_emb_382', 'body_bert_emb_383', 'body_bert_emb_384', 'body_bert_emb_385', 'body_bert_emb_386', 'body_bert_emb_387', 'body_bert_emb_388', 'body_bert_emb_389', 'body_bert_emb_390', 'body_bert_emb_391', 'body_bert_emb_392', 'body_bert_emb_393', 'body_bert_emb_394', 'body_bert_emb_395', 'body_bert_emb_396', 'body_bert_emb_397', 'body_bert_emb_398', 'body_bert_emb_399', 'body_bert_emb_400', 'body_bert_emb_401', 'body_bert_emb_402', 'body_bert_emb_403', 'body_bert_emb_404', 'body_bert_emb_405', 'body_bert_emb_406', 'body_bert_emb_407', 'body_bert_emb_408', 'body_bert_emb_409', 'body_bert_emb_410', 'body_bert_emb_411', 'body_bert_emb_412', 'body_bert_emb_413', 'body_bert_emb_414', 'body_bert_emb_415', 'body_bert_emb_416', 'body_bert_emb_417', 'body_bert_emb_418', 'body_bert_emb_419', 'body_bert_emb_420', 'body_bert_emb_421', 'body_bert_emb_422', 'body_bert_emb_423', 'body_bert_emb_424', 'body_bert_emb_425', 'body_bert_emb_426', 'body_bert_emb_427', 'body_bert_emb_428', 'body_bert_emb_429', 'body_bert_emb_430', 'body_bert_emb_431', 'body_bert_emb_432', 'body_bert_emb_433', 'body_bert_emb_434', 'body_bert_emb_435', 'body_bert_emb_436', 'body_bert_emb_437', 'body_bert_emb_438', 'body_bert_emb_439', 'body_bert_emb_440', 'body_bert_emb_441', 'body_bert_emb_442', 'body_bert_emb_443', 'body_bert_emb_444', 'body_bert_emb_445', 'body_bert_emb_446', 'body_bert_emb_447', 'body_bert_emb_448', 'body_bert_emb_449', 'body_bert_emb_450', 'body_bert_emb_451', 'body_bert_emb_452', 'body_bert_emb_453', 'body_bert_emb_454', 'body_bert_emb_455', 'body_bert_emb_456', 'body_bert_emb_457', 'body_bert_emb_458', 'body_bert_emb_459', 'body_bert_emb_460', 'body_bert_emb_461', 'body_bert_emb_462', 'body_bert_emb_463', 'body_bert_emb_464', 'body_bert_emb_465', 'body_bert_emb_466', 'body_bert_emb_467', 'body_bert_emb_468', 'body_bert_emb_469', 'body_bert_emb_470', 'body_bert_emb_471', 'body_bert_emb_472', 'body_bert_emb_473', 'body_bert_emb_474', 'body_bert_emb_475', 'body_bert_emb_476', 'body_bert_emb_477', 'body_bert_emb_478', 'body_bert_emb_479', 'body_bert_emb_480', 'body_bert_emb_481', 'body_bert_emb_482', 'body_bert_emb_483', 'body_bert_emb_484', 'body_bert_emb_485', 'body_bert_emb_486', 'body_bert_emb_487', 'body_bert_emb_488', 'body_bert_emb_489', 'body_bert_emb_490', 'body_bert_emb_491', 'body_bert_emb_492', 'body_bert_emb_493', 'body_bert_emb_494', 'body_bert_emb_495', 'body_bert_emb_496', 'body_bert_emb_497', 'body_bert_emb_498', 'body_bert_emb_499', 'body_bert_emb_500', 'body_bert_emb_501', 'body_bert_emb_502', 'body_bert_emb_503', 'body_bert_emb_504', 'body_bert_emb_505', 'body_bert_emb_506', 'body_bert_emb_507', 'body_bert_emb_508', 'body_bert_emb_509', 'body_bert_emb_510', 'body_bert_emb_511', 'body_bert_emb_512', 'body_bert_emb_513', 'body_bert_emb_514', 'body_bert_emb_515', 'body_bert_emb_516', 'body_bert_emb_517', 'body_bert_emb_518', 'body_bert_emb_519', 'body_bert_emb_520', 'body_bert_emb_521', 'body_bert_emb_522', 'body_bert_emb_523', 'body_bert_emb_524', 'body_bert_emb_525', 'body_bert_emb_526', 'body_bert_emb_527', 'body_bert_emb_528', 'body_bert_emb_529', 'body_bert_emb_530', 'body_bert_emb_531', 'body_bert_emb_532', 'body_bert_emb_533', 'body_bert_emb_534', 'body_bert_emb_535', 'body_bert_emb_536', 'body_bert_emb_537', 'body_bert_emb_538', 'body_bert_emb_539', 'body_bert_emb_540', 'body_bert_emb_541', 'body_bert_emb_542', 'body_bert_emb_543', 'body_bert_emb_544', 'body_bert_emb_545', 'body_bert_emb_546', 'body_bert_emb_547', 'body_bert_emb_548', 'body_bert_emb_549', 'body_bert_emb_550', 'body_bert_emb_551', 'body_bert_emb_552', 'body_bert_emb_553', 'body_bert_emb_554', 'body_bert_emb_555', 'body_bert_emb_556', 'body_bert_emb_557', 'body_bert_emb_558', 'body_bert_emb_559', 'body_bert_emb_560', 'body_bert_emb_561', 'body_bert_emb_562', 'body_bert_emb_563', 'body_bert_emb_564', 'body_bert_emb_565', 'body_bert_emb_566', 'body_bert_emb_567', 'body_bert_emb_568', 'body_bert_emb_569', 'body_bert_emb_570', 'body_bert_emb_571', 'body_bert_emb_572', 'body_bert_emb_573', 'body_bert_emb_574', 'body_bert_emb_575', 'body_bert_emb_576', 'body_bert_emb_577', 'body_bert_emb_578', 'body_bert_emb_579', 'body_bert_emb_580', 'body_bert_emb_581', 'body_bert_emb_582', 'body_bert_emb_583', 'body_bert_emb_584', 'body_bert_emb_585', 'body_bert_emb_586', 'body_bert_emb_587', 'body_bert_emb_588', 'body_bert_emb_589', 'body_bert_emb_590', 'body_bert_emb_591', 'body_bert_emb_592', 'body_bert_emb_593', 'body_bert_emb_594', 'body_bert_emb_595', 'body_bert_emb_596', 'body_bert_emb_597', 'body_bert_emb_598', 'body_bert_emb_599', 'body_bert_emb_600', 'body_bert_emb_601', 'body_bert_emb_602', 'body_bert_emb_603', 'body_bert_emb_604', 'body_bert_emb_605', 'body_bert_emb_606', 'body_bert_emb_607', 'body_bert_emb_608', 'body_bert_emb_609', 'body_bert_emb_610', 'body_bert_emb_611', 'body_bert_emb_612', 'body_bert_emb_613', 'body_bert_emb_614', 'body_bert_emb_615', 'body_bert_emb_616', 'body_bert_emb_617', 'body_bert_emb_618', 'body_bert_emb_619', 'body_bert_emb_620', 'body_bert_emb_621', 'body_bert_emb_622', 'body_bert_emb_623', 'body_bert_emb_624', 'body_bert_emb_625', 'body_bert_emb_626', 'body_bert_emb_627', 'body_bert_emb_628', 'body_bert_emb_629', 'body_bert_emb_630', 'body_bert_emb_631', 'body_bert_emb_632', 'body_bert_emb_633', 'body_bert_emb_634', 'body_bert_emb_635', 'body_bert_emb_636', 'body_bert_emb_637', 'body_bert_emb_638', 'body_bert_emb_639', 'body_bert_emb_640', 'body_bert_emb_641', 'body_bert_emb_642', 'body_bert_emb_643', 'body_bert_emb_644', 'body_bert_emb_645', 'body_bert_emb_646', 'body_bert_emb_647', 'body_bert_emb_648', 'body_bert_emb_649', 'body_bert_emb_650', 'body_bert_emb_651', 'body_bert_emb_652', 'body_bert_emb_653', 'body_bert_emb_654', 'body_bert_emb_655', 'body_bert_emb_656', 'body_bert_emb_657', 'body_bert_emb_658', 'body_bert_emb_659', 'body_bert_emb_660', 'body_bert_emb_661', 'body_bert_emb_662', 'body_bert_emb_663', 'body_bert_emb_664', 'body_bert_emb_665', 'body_bert_emb_666', 'body_bert_emb_667', 'body_bert_emb_668', 'body_bert_emb_669', 'body_bert_emb_670', 'body_bert_emb_671', 'body_bert_emb_672', 'body_bert_emb_673', 'body_bert_emb_674', 'body_bert_emb_675', 'body_bert_emb_676', 'body_bert_emb_677', 'body_bert_emb_678', 'body_bert_emb_679', 'body_bert_emb_680', 'body_bert_emb_681', 'body_bert_emb_682', 'body_bert_emb_683', 'body_bert_emb_684', 'body_bert_emb_685', 'body_bert_emb_686', 'body_bert_emb_687', 'body_bert_emb_688', 'body_bert_emb_689', 'body_bert_emb_690', 'body_bert_emb_691', 'body_bert_emb_692', 'body_bert_emb_693', 'body_bert_emb_694', 'body_bert_emb_695', 'body_bert_emb_696', 'body_bert_emb_697', 'body_bert_emb_698', 'body_bert_emb_699', 'body_bert_emb_700', 'body_bert_emb_701', 'body_bert_emb_702', 'body_bert_emb_703', 'body_bert_emb_704', 'body_bert_emb_705', 'body_bert_emb_706', 'body_bert_emb_707', 'body_bert_emb_708', 'body_bert_emb_709', 'body_bert_emb_710', 'body_bert_emb_711', 'body_bert_emb_712', 'body_bert_emb_713', 'body_bert_emb_714', 'body_bert_emb_715', 'body_bert_emb_716', 'body_bert_emb_717', 'body_bert_emb_718', 'body_bert_emb_719', 'body_bert_emb_720', 'body_bert_emb_721', 'body_bert_emb_722', 'body_bert_emb_723', 'body_bert_emb_724', 'body_bert_emb_725', 'body_bert_emb_726', 'body_bert_emb_727', 'body_bert_emb_728', 'body_bert_emb_729', 'body_bert_emb_730', 'body_bert_emb_731', 'body_bert_emb_732', 'body_bert_emb_733', 'body_bert_emb_734', 'body_bert_emb_735', 'body_bert_emb_736', 'body_bert_emb_737', 'body_bert_emb_738', 'body_bert_emb_739', 'body_bert_emb_740', 'body_bert_emb_741', 'body_bert_emb_742', 'body_bert_emb_743', 'body_bert_emb_744', 'body_bert_emb_745', 'body_bert_emb_746', 'body_bert_emb_747', 'body_bert_emb_748', 'body_bert_emb_749', 'body_bert_emb_750', 'body_bert_emb_751', 'body_bert_emb_752', 'body_bert_emb_753', 'body_bert_emb_754', 'body_bert_emb_755', 'body_bert_emb_756', 'body_bert_emb_757', 'body_bert_emb_758', 'body_bert_emb_759', 'body_bert_emb_760', 'body_bert_emb_761', 'body_bert_emb_762', 'body_bert_emb_763', 'body_bert_emb_764', 'body_bert_emb_765', 'body_bert_emb_766', 'body_bert_emb_767', 'title_lda_0', 'title_lda_1', 'title_lda_2', 'title_lda_3', 'title_lda_4', 'title_lda_5', 'title_lda_6', 'title_lda_7', 'title_lda_8', 'title_lda_9', 'title_lda_10', 'title_lda_11', 'title_lda_12', 'title_lda_13', 'title_lda_14', 'title_lda_15', 'title_lda_16', 'title_lda_17', 'title_lda_18', 'title_lda_19', 'title_lda_20', 'title_lda_21', 'title_lda_22', 'title_lda_23', 'title_lda_24', 'title_lda_25', 'title_lda_26', 'title_lda_27', 'title_lda_28', 'title_lda_29', 'title_lda_30', 'title_lda_31', 'title_lda_32', 'title_lda_33', 'title_lda_34', 'title_lda_35', 'title_lda_36', 'title_lda_37', 'title_lda_38', 'title_lda_39', 'title_lda_40', 'title_lda_41', 'title_lda_42', 'title_lda_43', 'title_lda_44', 'title_lda_45', 'title_lda_46', 'title_lda_47', 'title_lda_48', 'title_lda_49', 'title_lda_50', 'title_lda_51', 'title_lda_52', 'title_lda_53', 'title_lda_54', 'title_lda_55', 'title_lda_56', 'title_lda_57', 'title_lda_58', 'title_lda_59', 'title_lda_60', 'title_lda_61', 'title_lda_62', 'title_lda_63', 'title_lda_64', 'title_lda_65', 'title_lda_66', 'title_lda_67', 'title_lda_68', 'title_lda_69', 'title_lda_70', 'title_lda_71', 'title_lda_72', 'title_lda_73', 'title_lda_74', 'title_lda_75', 'title_lda_76', 'title_lda_77', 'title_lda_78', 'title_lda_79', 'title_lda_80', 'title_lda_81', 'title_lda_82', 'title_lda_83', 'title_lda_84', 'title_lda_85', 'title_lda_86', 'title_lda_87', 'title_lda_88', 'title_lda_89', 'title_lda_90', 'title_lda_91', 'title_lda_92', 'title_lda_93', 'title_lda_94', 'title_lda_95', 'title_lda_96', 'title_lda_97', 'title_lda_98', 'title_lda_99', 'body_lda_0', 'body_lda_1', 'body_lda_2', 'body_lda_3', 'body_lda_4', 'body_lda_5', 'body_lda_6', 'body_lda_7', 'body_lda_8', 'body_lda_9', 'body_lda_10', 'body_lda_11', 'body_lda_12', 'body_lda_13', 'body_lda_14', 'body_lda_15', 'body_lda_16', 'body_lda_17', 'body_lda_18', 'body_lda_19', 'body_lda_20', 'body_lda_21', 'body_lda_22', 'body_lda_23', 'body_lda_24', 'body_lda_25', 'body_lda_26', 'body_lda_27', 'body_lda_28', 'body_lda_29', 'body_lda_30', 'body_lda_31', 'body_lda_32', 'body_lda_33', 'body_lda_34', 'body_lda_35', 'body_lda_36', 'body_lda_37', 'body_lda_38', 'body_lda_39', 'body_lda_40', 'body_lda_41', 'body_lda_42', 'body_lda_43', 'body_lda_44', 'body_lda_45', 'body_lda_46', 'body_lda_47', 'body_lda_48', 'body_lda_49', 'body_lda_50', 'body_lda_51', 'body_lda_52', 'body_lda_53', 'body_lda_54', 'body_lda_55', 'body_lda_56', 'body_lda_57', 'body_lda_58', 'body_lda_59', 'body_lda_60', 'body_lda_61', 'body_lda_62', 'body_lda_63', 'body_lda_64', 'body_lda_65', 'body_lda_66', 'body_lda_67', 'body_lda_68', 'body_lda_69', 'body_lda_70', 'body_lda_71', 'body_lda_72', 'body_lda_73', 'body_lda_74', 'body_lda_75', 'body_lda_76', 'body_lda_77', 'body_lda_78', 'body_lda_79', 'body_lda_80', 'body_lda_81', 'body_lda_82', 'body_lda_83', 'body_lda_84', 'body_lda_85', 'body_lda_86', 'body_lda_87', 'body_lda_88', 'body_lda_89', 'body_lda_90', 'body_lda_91', 'body_lda_92', 'body_lda_93', 'body_lda_94', 'body_lda_95', 'body_lda_96', 'body_lda_97', 'body_lda_98', 'body_lda_99']\n"
     ]
    }
   ],
   "source": [
    "# Set the features\n",
    "basic_features = [\n",
    "    'tag_index',\n",
    "    'title_len',\n",
    "    'body_len',   \n",
    "    'upvote_ratio'\n",
    "]\n",
    "feature_setting = 3\n",
    "if feature_setting == 0:\n",
    "    features = basic_features\n",
    "elif feature_setting == 1:\n",
    "    features = basic_features + title_lda_names + body_lda_names\n",
    "elif feature_setting == 2:\n",
    "    features = basic_features + title_bert_emb_names + body_bert_emb_names\n",
    "elif feature_setting == 3:\n",
    "    features = basic_features + title_bert_emb_names + body_bert_emb_names + title_lda_names + body_lda_names\n",
    "else:\n",
    "    raise ValueError('Invalid value of feature_setting {}'.format(feature_setting))\n",
    "categorical_feature = [i for i, f in enumerate(features) if f.endswith('_index')]\n",
    "print(features)"
   ]
  },
  {
   "cell_type": "code",
   "execution_count": 41,
   "metadata": {},
   "outputs": [],
   "source": [
    "# Split the samples (with fixed random seed for reproductivity and ablation study)\n",
    "np.random.seed(0)\n",
    "df['r'] = np.random.rand(total_samples)\n",
    "X_train = df.loc[df['r'] < 0.8][features]\n",
    "y_train = df.loc[df['r'] < 0.8]['score']\n",
    "X_val = df.loc[(df['r'] >= 0.8) & (df['r'] < 0.9)][features]\n",
    "y_val = df.loc[(df['r'] >= 0.8) & (df['r'] < 0.9)]['score']\n",
    "X_test = df.loc[df['r'] >= 0.9][features]\n",
    "y_test = df.loc[df['r'] >= 0.9]['score']"
   ]
  },
  {
   "cell_type": "code",
   "execution_count": 42,
   "metadata": {},
   "outputs": [
    {
     "name": "stdout",
     "output_type": "stream",
     "text": [
      "Start training LightGBM...\n"
     ]
    },
    {
     "name": "stderr",
     "output_type": "stream",
     "text": [
      "C:\\Users\\yu\\AppData\\Local\\Continuum\\anaconda3\\lib\\site-packages\\lightgbm\\basic.py:2065: UserWarning: Using categorical_feature in Dataset.\n",
      "  _log_warning('Using categorical_feature in Dataset.')\n",
      "C:\\Users\\yu\\AppData\\Local\\Continuum\\anaconda3\\lib\\site-packages\\lightgbm\\basic.py:2068: UserWarning: categorical_feature in Dataset is overridden.\n",
      "New categorical_feature is [0]\n",
      "  _log_warning('categorical_feature in Dataset is overridden.\\n'\n"
     ]
    },
    {
     "name": "stdout",
     "output_type": "stream",
     "text": [
      "[LightGBM] [Warning] Auto-choosing col-wise multi-threading, the overhead of testing was 0.133263 seconds.\n",
      "You can set `force_col_wise=true` to remove the overhead.\n"
     ]
    },
    {
     "name": "stderr",
     "output_type": "stream",
     "text": [
      "C:\\Users\\yu\\AppData\\Local\\Continuum\\anaconda3\\lib\\site-packages\\lightgbm\\basic.py:1780: UserWarning: Overriding the parameters from Reference Dataset.\n",
      "  _log_warning('Overriding the parameters from Reference Dataset.')\n",
      "C:\\Users\\yu\\AppData\\Local\\Continuum\\anaconda3\\lib\\site-packages\\lightgbm\\basic.py:1513: UserWarning: categorical_column in param dict is overridden.\n",
      "  _log_warning(f'{cat_alias} in param dict is overridden.')\n"
     ]
    },
    {
     "name": "stdout",
     "output_type": "stream",
     "text": [
      "Training until validation scores don't improve for 5 rounds\n",
      "Did not meet early stopping. Best iteration is:\n",
      "[100]\tvalid_0's l2: 0.000566866\n",
      "Top 10 most important features (ranked by number of splitting):\n",
      "[('upvote_ratio', 153), ('title_bert_emb_110', 74), ('body_bert_emb_132', 63), ('body_bert_emb_295', 26), ('body_bert_emb_715', 25), ('title_bert_emb_409', 20), ('tag_index', 16), ('title_len', 15), ('title_bert_emb_279', 14), ('title_bert_emb_344', 14)]\n"
     ]
    }
   ],
   "source": [
    "lgb_train = lgb.Dataset(X_train, y_train, categorical_feature=categorical_feature)\n",
    "lgb_val = lgb.Dataset(X_val, y_val, reference=lgb_train)\n",
    "            \n",
    "print('Start training LightGBM...')\n",
    "num_trees = 100\n",
    "params = {\n",
    "    'objective': 'regression',\n",
    "    'verbose': 0\n",
    "}\n",
    "gbm = lgb.train(\n",
    "        params,\n",
    "        lgb_train,\n",
    "        num_boost_round=num_trees,\n",
    "        valid_sets=lgb_val,\n",
    "        callbacks=[lgb.early_stopping(stopping_rounds=5)]\n",
    "    )\n",
    "feature_importance = sorted(\n",
    "    zip(features, gbm.feature_importance(importance_type='split')), \n",
    "    key=lambda t: t[1],\n",
    "    reverse=True\n",
    ")\n",
    "print('Top 10 most important features (ranked by number of splitting):')\n",
    "print(feature_importance[:10])"
   ]
  },
  {
   "cell_type": "code",
   "execution_count": 43,
   "metadata": {},
   "outputs": [
    {
     "name": "stdout",
     "output_type": "stream",
     "text": [
      "Start evaluation...\n",
      "R2 of training dataset: 0.9588251100469344\n",
      "R2 of validation dataset: 0.7456521718704103\n",
      "R2 of test dataset: 0.6223861579074297\n"
     ]
    }
   ],
   "source": [
    "# Evaluate the model\n",
    "print('Start evaluation...')\n",
    "y_pred = gbm.predict(X_train, num_iteration=gbm.best_iteration)\n",
    "r2 = r2_score(y_train, y_pred)\n",
    "print('R2 of training dataset: {}'.format(r2))\n",
    "y_pred = gbm.predict(X_val, num_iteration=gbm.best_iteration)\n",
    "r2 = r2_score(y_val, y_pred)\n",
    "print('R2 of validation dataset: {}'.format(r2))\n",
    "y_pred = gbm.predict(X_test, num_iteration=gbm.best_iteration)\n",
    "r2 = r2_score(y_test, y_pred)\n",
    "print('R2 of test dataset: {}'.format(r2))"
   ]
  },
  {
   "cell_type": "markdown",
   "metadata": {},
   "source": [
    "**Ablation study (different choices of features and R2 of the test samples):**\n",
    "1. basic features: R2 = 0.422\n",
    "2. basic features + LDA topic features: R2 = 0.437\n",
    "3. basic features + BERT embeddings: R2 = 0.599\n",
    "4. basic features + LDA topic features + BERT embeddings: R2 = 0.622"
   ]
  },
  {
   "cell_type": "markdown",
   "metadata": {},
   "source": [
    "# Conclusion\n",
    "1. \"upvote_ratio\" is the most important attribute, which can be seen from the correlation analysis and feature importance of the LightGBM model. Besides, length of titles and bodies, tags are all considered basic features for predicting the score, though the performance is not as good as advanced features are used.\n",
    "2. The ablation study shows that both topic features and BERT embeddings can improve the performance. The combinition of them produced the best model (R2=0.622)"
   ]
  },
  {
   "cell_type": "markdown",
   "metadata": {},
   "source": [
    "## Future Work\n",
    "1. It's  not clear that duplicated posts would have lower scores. This can be a potential feature to check out in the prediction model.\n",
    "2. The correlation analysis and feature importance showed us general explanations for the post scores, which describes the patterns of the entire training set. However, sometimes people want to find explanation for a single case, which is also called responsibility in some studies. In that case, one can use Shapley values to calculate feature importance for each sample. Due to the deadline, this is not illustrated in the experiment above."
   ]
  },
  {
   "cell_type": "code",
   "execution_count": null,
   "metadata": {},
   "outputs": [],
   "source": []
  }
 ],
 "metadata": {
  "kernelspec": {
   "display_name": "Python 3",
   "language": "python",
   "name": "python3"
  },
  "language_info": {
   "codemirror_mode": {
    "name": "ipython",
    "version": 3
   },
   "file_extension": ".py",
   "mimetype": "text/x-python",
   "name": "python",
   "nbconvert_exporter": "python",
   "pygments_lexer": "ipython3",
   "version": "3.6.5"
  }
 },
 "nbformat": 4,
 "nbformat_minor": 2
}
